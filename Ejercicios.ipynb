{
 "cells": [
  {
   "cell_type": "code",
   "execution_count": 12,
   "id": "1eb6b8cf",
   "metadata": {},
   "outputs": [],
   "source": [
    "import sympy as sym\n",
    "from IPython.display import display\n",
    "\n",
    "def cubic_spline(xs: list[float], ys: list[float]) -> list[sym.Expr]:\n",
    "    \"\"\"\n",
    "    Cubic spline interpolation ``S``. Every two points are interpolated by a cubic polynomial\n",
    "    ``S_j`` of the form ``S_j(x) = a_j + b_j(x - x_j) + c_j(x - x_j)^2 + d_j(x - x_j)^3.``\n",
    "\n",
    "    xs must be different but not necessarily ordered nor equally spaced.\n",
    "\n",
    "    ## Parameters\n",
    "    - xs, ys: points to be interpolated\n",
    "\n",
    "    ## Return\n",
    "    - List of symbolic expressions for the cubic spline interpolation.\n",
    "    \"\"\"\n",
    "    \n",
    "\n",
    "    points = sorted(zip(xs, ys), key=lambda x: x[0])  # sort points by x\n",
    "\n",
    "    xs = [x for x, _ in points]\n",
    "    ys = [y for _, y in points]\n",
    "\n",
    "    n = len(points) - 1  # number of splines\n",
    "\n",
    "    h = [xs[i + 1] - xs[i] for i in range(n)]  # distances between contiguous xs\n",
    "\n",
    "    alpha = [0] * (n + 1)\n",
    "    for i in range(1, n):\n",
    "        alpha[i] = (\n",
    "            3 / h[i] * (ys[i + 1] - ys[i]) - 3 / h[i - 1] * (ys[i] - ys[i - 1])\n",
    "        )\n",
    "\n",
    "    l = [1]\n",
    "    u = [0]\n",
    "    z = [0]\n",
    "\n",
    "    for i in range(1, n):\n",
    "        l.append(2 * (xs[i + 1] - xs[i - 1]) - h[i - 1] * u[i - 1])\n",
    "        u.append(h[i] / l[i])\n",
    "        z.append((alpha[i] - h[i - 1] * z[i - 1]) / l[i])\n",
    "\n",
    "    l.append(1)\n",
    "    z.append(0)\n",
    "    c = [0] * (n + 1)\n",
    "\n",
    "    x = sym.Symbol(\"x\")\n",
    "    splines = []\n",
    "    b_list = [0] * n\n",
    "    d_list = [0] * n\n",
    "    a_list = [ys[i] for i in range(n)]\n",
    "\n",
    "    for j in range(n - 1, -1, -1):\n",
    "        c[j] = z[j] - u[j] * c[j + 1]\n",
    "        b = (ys[j + 1] - ys[j]) / h[j] - h[j] * (c[j + 1] + 2 * c[j]) / 3\n",
    "        d = (c[j + 1] - c[j]) / (3 * h[j])\n",
    "        a = ys[j]\n",
    "\n",
    "        b_list[j] = b\n",
    "        d_list[j] = d\n",
    "\n",
    "        S = a + b * (x - xs[j]) + c[j] * (x - xs[j]) ** 2 + d * (x - xs[j]) ** 3\n",
    "        splines.append(S)\n",
    "        print(j, float(a), float(b), float(c[j]), float(d))\n",
    "    splines.reverse()\n",
    "    return splines\n"
   ]
  },
  {
   "cell_type": "code",
   "execution_count": 13,
   "id": "251bc6d4",
   "metadata": {},
   "outputs": [
    {
     "name": "stdout",
     "output_type": "stream",
     "text": [
      "1 -4.0 4.0 4.5 -1.5\n",
      "0 -5.0 -0.5 0.0 1.5\n"
     ]
    },
    {
     "data": {
      "text/latex": [
       "$\\displaystyle 1.5 x^{3} - 0.5 x - 5$"
      ],
      "text/plain": [
       "1.5*x**3 - 0.5*x - 5"
      ]
     },
     "metadata": {},
     "output_type": "display_data"
    },
    {
     "data": {
      "text/latex": [
       "$\\displaystyle 4.0 x - 1.5 \\left(x - 1\\right)^{3} + 4.5 \\left(x - 1\\right)^{2} - 8.0$"
      ],
      "text/plain": [
       "4.0*x - 1.5*(x - 1)**3 + 4.5*(x - 1)**2 - 8.0"
      ]
     },
     "metadata": {},
     "output_type": "display_data"
    },
    {
     "name": "stdout",
     "output_type": "stream",
     "text": [
      "______\n"
     ]
    },
    {
     "data": {
      "text/latex": [
       "$\\displaystyle 1.5 x^{3} - 0.5 x - 5$"
      ],
      "text/plain": [
       "1.5*x**3 - 0.5*x - 5"
      ]
     },
     "metadata": {},
     "output_type": "display_data"
    },
    {
     "data": {
      "text/latex": [
       "$\\displaystyle - 1.5 x^{3} + 9.0 x^{2} - 9.5 x - 2.0$"
      ],
      "text/plain": [
       "-1.5*x**3 + 9.0*x**2 - 9.5*x - 2.0"
      ]
     },
     "metadata": {},
     "output_type": "display_data"
    }
   ],
   "source": [
    "xs = [0, 1, 2]\n",
    "ys = [-5, -4, 3]\n",
    "\n",
    "splines = cubic_spline(xs=xs, ys=ys)\n",
    "_ = [display(s) for s in splines]\n",
    "print(\"______\")\n",
    "_ = [display(s.expand()) for s in splines]"
   ]
  }
 ],
 "metadata": {
  "kernelspec": {
   "display_name": "base",
   "language": "python",
   "name": "python3"
  },
  "language_info": {
   "codemirror_mode": {
    "name": "ipython",
    "version": 3
   },
   "file_extension": ".py",
   "mimetype": "text/x-python",
   "name": "python",
   "nbconvert_exporter": "python",
   "pygments_lexer": "ipython3",
   "version": "3.12.7"
  }
 },
 "nbformat": 4,
 "nbformat_minor": 5
}
